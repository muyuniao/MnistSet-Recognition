{
 "cells": [
  {
   "cell_type": "markdown",
   "id": "a3ff8e52-ba05-49b1-9e98-71df14b23377",
   "metadata": {},
   "source": [
    "在此项目中，我将在PyTorch中构建一个简单的全连接神经网络，并使用MNIST数据集训练它识别手写数字。"
   ]
  },
  {
   "cell_type": "markdown",
   "id": "6c6f1445-6983-45f0-9e43-bc83351de7f2",
   "metadata": {},
   "source": [
    "1.1 导入python包"
   ]
  },
  {
   "cell_type": "code",
   "execution_count": 1,
   "id": "e56e75e0-353f-4715-a2d3-4eed1294fa8a",
   "metadata": {},
   "outputs": [],
   "source": [
    "from torchvision import transforms\n",
    "import numpy as np\n",
    "import torch\n",
    "import torchvision\n",
    "import torch.nn.functional as F\n",
    "from torch import nn\n",
    "from torch import optim"
   ]
  },
  {
   "cell_type": "markdown",
   "id": "fc7995c7-5d5b-49b3-9481-5a7469a4eb9b",
   "metadata": {},
   "source": [
    "1.2 加载数据集\n",
    "    数据位置：torchvision.datasets.MNIST"
   ]
  },
  {
   "cell_type": "markdown",
   "id": "66bd246e-616f-4514-a10c-34cf854ef6b7",
   "metadata": {},
   "source": [
    "1.2.1 使用代码加载MNIST数据集"
   ]
  },
  {
   "cell_type": "code",
   "execution_count": 2,
   "id": "b4c67f95-ee3d-4072-b805-0756b55bf884",
   "metadata": {},
   "outputs": [],
   "source": [
    "train_batch_size = 64  #设置训练数据集大小为64\n",
    "test_batch_size = 1000 #设置测试数据集大小为1000\n",
    "img_size = 28          #设置图像大小为28\n",
    "\n",
    "def get_dataloader(train=True):\n",
    "\n",
    "    #准备数据集，其中0.1307，0.3081为MNIST数据的均值和标准差，这样操作能够对其进行标准化\n",
    "    #因为MNIST只有一个通道（黑白图片）,所以元组中只有一个值\n",
    "    dataset = torchvision.datasets.MNIST('/data', train=train, download=True,\n",
    "                                         transform=torchvision.transforms.Compose([\n",
    "                                         torchvision.transforms.ToTensor(),\n",
    "                                         torchvision.transforms.Normalize((0.1307,), (0.3081,)),]))\n",
    "    #准备数据迭代器\n",
    "    batch_size = train_batch_size if train else test_batch_size\n",
    "    dataloader = torch.utils.data.DataLoader(dataset,batch_size=batch_size,shuffle=True)\n",
    "    return dataloader"
   ]
  },
  {
   "cell_type": "code",
   "execution_count": 3,
   "id": "2df9479a-99cc-4e3f-bf15-da146fa16cd5",
   "metadata": {},
   "outputs": [
    {
     "data": {
      "text/plain": [
       "torch.Size([60000, 28, 28])"
      ]
     },
     "execution_count": 3,
     "metadata": {},
     "output_type": "execute_result"
    }
   ],
   "source": [
    "dataset = torchvision.datasets.MNIST('/data', train=True, download=True,\n",
    "                                         transform=torchvision.transforms.Compose([\n",
    "                                         torchvision.transforms.ToTensor(),\n",
    "                                         torchvision.transforms.Normalize((0.1307,), (0.3081,)),]))\n",
    "# 查看数据构成\n",
    "dataset.data.size()"
   ]
  },
  {
   "cell_type": "code",
   "execution_count": 6,
   "id": "aa7544bf-abaf-4fe0-b103-9a2642a0dcbe",
   "metadata": {},
   "outputs": [
    {
     "data": {
      "text/plain": [
       "(torch.Size([60000, 28, 28]),\n",
       " tensor([[  0,   0,   0,   0,   0,   0,   0,   0,   0,   0,   0,   0,   0,   0,\n",
       "            0,   0,   0,   0,   0,   0,   0,   0,   0,   0,   0,   0,   0,   0],\n",
       "         [  0,   0,   0,   0,   0,   0,   0,   0,   0,   0,   0,   0,   0,   0,\n",
       "            0,   0,   0,   0,   0,   0,   0,   0,   0,   0,   0,   0,   0,   0],\n",
       "         [  0,   0,   0,   0,   0,   0,   0,   0,   0,   0,   0,   0,   0,   0,\n",
       "            0,   0,   0,   0,   0,   0,   0,   0,   0,   0,   0,   0,   0,   0],\n",
       "         [  0,   0,   0,   0,   0,   0,   0,   0,   0,   0,   0,   0,   0,   0,\n",
       "            0,   0,   0,   0,   0,   0,   0,   0,   0,   0,   0,   0,   0,   0],\n",
       "         [  0,   0,   0,   0,   0,   0,   0,   0,   0,   0,   0,   0,   0,   0,\n",
       "            0,  51, 159, 253, 159,  50,   0,   0,   0,   0,   0,   0,   0,   0],\n",
       "         [  0,   0,   0,   0,   0,   0,   0,   0,   0,   0,   0,   0,   0,   0,\n",
       "           48, 238, 252, 252, 252, 237,   0,   0,   0,   0,   0,   0,   0,   0],\n",
       "         [  0,   0,   0,   0,   0,   0,   0,   0,   0,   0,   0,   0,   0,  54,\n",
       "          227, 253, 252, 239, 233, 252,  57,   6,   0,   0,   0,   0,   0,   0],\n",
       "         [  0,   0,   0,   0,   0,   0,   0,   0,   0,   0,   0,  10,  60, 224,\n",
       "          252, 253, 252, 202,  84, 252, 253, 122,   0,   0,   0,   0,   0,   0],\n",
       "         [  0,   0,   0,   0,   0,   0,   0,   0,   0,   0,   0, 163, 252, 252,\n",
       "          252, 253, 252, 252,  96, 189, 253, 167,   0,   0,   0,   0,   0,   0],\n",
       "         [  0,   0,   0,   0,   0,   0,   0,   0,   0,   0,  51, 238, 253, 253,\n",
       "          190, 114, 253, 228,  47,  79, 255, 168,   0,   0,   0,   0,   0,   0],\n",
       "         [  0,   0,   0,   0,   0,   0,   0,   0,   0,  48, 238, 252, 252, 179,\n",
       "           12,  75, 121,  21,   0,   0, 253, 243,  50,   0,   0,   0,   0,   0],\n",
       "         [  0,   0,   0,   0,   0,   0,   0,   0,  38, 165, 253, 233, 208,  84,\n",
       "            0,   0,   0,   0,   0,   0, 253, 252, 165,   0,   0,   0,   0,   0],\n",
       "         [  0,   0,   0,   0,   0,   0,   0,   7, 178, 252, 240,  71,  19,  28,\n",
       "            0,   0,   0,   0,   0,   0, 253, 252, 195,   0,   0,   0,   0,   0],\n",
       "         [  0,   0,   0,   0,   0,   0,   0,  57, 252, 252,  63,   0,   0,   0,\n",
       "            0,   0,   0,   0,   0,   0, 253, 252, 195,   0,   0,   0,   0,   0],\n",
       "         [  0,   0,   0,   0,   0,   0,   0, 198, 253, 190,   0,   0,   0,   0,\n",
       "            0,   0,   0,   0,   0,   0, 255, 253, 196,   0,   0,   0,   0,   0],\n",
       "         [  0,   0,   0,   0,   0,   0,  76, 246, 252, 112,   0,   0,   0,   0,\n",
       "            0,   0,   0,   0,   0,   0, 253, 252, 148,   0,   0,   0,   0,   0],\n",
       "         [  0,   0,   0,   0,   0,   0,  85, 252, 230,  25,   0,   0,   0,   0,\n",
       "            0,   0,   0,   0,   7, 135, 253, 186,  12,   0,   0,   0,   0,   0],\n",
       "         [  0,   0,   0,   0,   0,   0,  85, 252, 223,   0,   0,   0,   0,   0,\n",
       "            0,   0,   0,   7, 131, 252, 225,  71,   0,   0,   0,   0,   0,   0],\n",
       "         [  0,   0,   0,   0,   0,   0,  85, 252, 145,   0,   0,   0,   0,   0,\n",
       "            0,   0,  48, 165, 252, 173,   0,   0,   0,   0,   0,   0,   0,   0],\n",
       "         [  0,   0,   0,   0,   0,   0,  86, 253, 225,   0,   0,   0,   0,   0,\n",
       "            0, 114, 238, 253, 162,   0,   0,   0,   0,   0,   0,   0,   0,   0],\n",
       "         [  0,   0,   0,   0,   0,   0,  85, 252, 249, 146,  48,  29,  85, 178,\n",
       "          225, 253, 223, 167,  56,   0,   0,   0,   0,   0,   0,   0,   0,   0],\n",
       "         [  0,   0,   0,   0,   0,   0,  85, 252, 252, 252, 229, 215, 252, 252,\n",
       "          252, 196, 130,   0,   0,   0,   0,   0,   0,   0,   0,   0,   0,   0],\n",
       "         [  0,   0,   0,   0,   0,   0,  28, 199, 252, 252, 253, 252, 252, 233,\n",
       "          145,   0,   0,   0,   0,   0,   0,   0,   0,   0,   0,   0,   0,   0],\n",
       "         [  0,   0,   0,   0,   0,   0,   0,  25, 128, 252, 253, 252, 141,  37,\n",
       "            0,   0,   0,   0,   0,   0,   0,   0,   0,   0,   0,   0,   0,   0],\n",
       "         [  0,   0,   0,   0,   0,   0,   0,   0,   0,   0,   0,   0,   0,   0,\n",
       "            0,   0,   0,   0,   0,   0,   0,   0,   0,   0,   0,   0,   0,   0],\n",
       "         [  0,   0,   0,   0,   0,   0,   0,   0,   0,   0,   0,   0,   0,   0,\n",
       "            0,   0,   0,   0,   0,   0,   0,   0,   0,   0,   0,   0,   0,   0],\n",
       "         [  0,   0,   0,   0,   0,   0,   0,   0,   0,   0,   0,   0,   0,   0,\n",
       "            0,   0,   0,   0,   0,   0,   0,   0,   0,   0,   0,   0,   0,   0],\n",
       "         [  0,   0,   0,   0,   0,   0,   0,   0,   0,   0,   0,   0,   0,   0,\n",
       "            0,   0,   0,   0,   0,   0,   0,   0,   0,   0,   0,   0,   0,   0]],\n",
       "        dtype=torch.uint8))"
      ]
     },
     "execution_count": 6,
     "metadata": {},
     "output_type": "execute_result"
    }
   ],
   "source": [
    "# 查看单个数据，28x28像素构成的图片\n",
    "dataset.data.size(),dataset.data[1]"
   ]
  },
  {
   "cell_type": "code",
   "execution_count": 9,
   "id": "a5d1e83a-8355-41c3-9d94-611ed328bb99",
   "metadata": {},
   "outputs": [
    {
     "data": {
      "image/jpeg": "[encoded data removed]",
      "image/png": "[encoded data removed]",
      "text/plain": [
       "<PIL.Image.Image image mode=L size=28x28>"
      ]
     },
     "execution_count": 9,
     "metadata": {},
     "output_type": "execute_result"
    }
   ],
   "source": [
    "# 显示图像\n",
    "from PIL import Image\n",
    "Image.fromarray(dataset.data[1].numpy())"
   ]
  },
  {
   "cell_type": "markdown",
   "id": "8497dd25-aa50-4997-869a-d85c66139e80",
   "metadata": {},
   "source": [
    "1.3 构建模型\n",
    "本项目采用relu作为激活函数"
   ]
  },
  {
   "cell_type": "code",
   "execution_count": 10,
   "id": "bf0af043-a61d-466a-9f5b-65177708790d",
   "metadata": {},
   "outputs": [
    {
     "data": {
      "text/plain": [
       "tensor([0, 0, 0, 1, 2])"
      ]
     },
     "execution_count": 10,
     "metadata": {},
     "output_type": "execute_result"
    }
   ],
   "source": [
    "# 测试relu\n",
    "test_relu_data = torch.tensor([-2, -1,  0,  1,  2])\n",
    "F.relu(test_relu_data)"
   ]
  },
  {
   "cell_type": "markdown",
   "id": "66130d62-1cd6-442b-b30d-1a0f2d96abc9",
   "metadata": {},
   "source": [
    "1.3.1 神经网络模型\n",
    "本项目采用输入层 隐藏层 输出层 三层神经网络结构"
   ]
  },
  {
   "cell_type": "code",
   "execution_count": null,
   "id": "eeff8d48-3a36-42d2-baf6-ffad804069e0",
   "metadata": {},
   "outputs": [],
   "source": [
    "class MnistNet(torch.nn.Module):\n",
    "    def __init__(self):\n",
    "        super(MnistNet,self).__init__()\n",
    "        self.fc1 = torch.nn.Linear(28*28,28)\n",
    "        self.fc2 = torch.nn.Linear(28,10)\n",
    "\n",
    "    def forward(self,x):\n",
    "        # 输入层\n",
    "        x = x.view(-1,28*28*1)#[batch_size,28*28]\n",
    "        # 隐藏层 \n",
    "        x = self.fc1(x) #[batch_size,28]\n",
    "        # 隐藏层的激活函数\n",
    "        x = F.relu(x)  #[batch_size,28]\n",
    "        # 输出层\n",
    "        x = self.fc2(x) #[batch_size,10]\n",
    "        # 输出层的激活函数\n",
    "        out = F.log_softmax(x,dim=-1) #[batch_size,10]\n",
    "        return out"
   ]
  },
  {
   "cell_type": "code",
   "execution_count": null,
   "id": "4642f077-757e-4a90-8347-daff23ef995c",
   "metadata": {},
   "outputs": [],
   "source": [
    "my_data = dataset.data[:64]\n",
    "my_data.size()\n",
    "x = my_data.view(-1, 28*28*1)\n",
    "x.size()"
   ]
  },
  {
   "cell_type": "markdown",
   "id": "8e03afff-ddf8-4386-9ab7-636d2225b6af",
   "metadata": {},
   "source": [
    "1.3 损失函数\n",
    "本项目损失函数为softmax函数"
   ]
  }
 ],
 "metadata": {
  "kernelspec": {
   "display_name": "Python 3 (ipykernel)",
   "language": "python",
   "name": "python3"
  },
  "language_info": {
   "codemirror_mode": {
    "name": "ipython",
    "version": 3
   },
   "file_extension": ".py",
   "mimetype": "text/x-python",
   "name": "python",
   "nbconvert_exporter": "python",
   "pygments_lexer": "ipython3",
   "version": "3.12.7"
  }
 },
 "nbformat": 4,
 "nbformat_minor": 5
}
