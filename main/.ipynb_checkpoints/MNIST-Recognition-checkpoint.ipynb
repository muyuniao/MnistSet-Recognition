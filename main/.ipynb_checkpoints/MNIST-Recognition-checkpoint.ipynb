{
 "cells": [
  {
   "cell_type": "code",
   "execution_count": 1,
   "id": "25b50b2c-a37d-44f2-b822-f20eae926b1b",
   "metadata": {},
   "outputs": [],
   "source": [
    "import numpy as np\n",
    "import torch\n",
    "from torch import nn,optim\n",
    "from torch.autograd import Variable\n",
    "from torchvision import datasets,transforms\n",
    "from torch.utils.data import DataLoader"
   ]
  },
  {
   "cell_type": "code",
   "execution_count": 2,
   "id": "cc5515a4-b9de-41bc-9bae-4cfdabefceae",
   "metadata": {},
   "outputs": [],
   "source": [
    "#训练集\n",
    "train_dataset=datasets.MNIST(root='./',#等号右侧为数据集的路径,./表示当前路径\n",
    "                             train=True,#\n",
    "                             transform=transforms.ToTensor(),#将MNIST数据集中数据转化为tensor数据\n",
    "                             download=True#若路径不存在数据集,则下载数据\n",
    ")\n",
    "#测试集\n",
    "test_dataset=datasets.MNIST(root='./',\n",
    "                             train=False,\n",
    "                             transform=transforms.ToTensor(),\n",
    "                             download=True\n",
    ")"
   ]
  },
  {
   "cell_type": "code",
   "execution_count": 22,
   "id": "6f730d5d-ac6a-4dd9-841f-532b07557dae",
   "metadata": {},
   "outputs": [],
   "source": [
    "#批次大小\n",
    "batch_size=64\n",
    "#装载数据集\n",
    "train_loader=DataLoader(dataset=train_dataset,\n",
    "                        batch_size=batch_size,\n",
    "                        shuffle=True#打乱顺序\n",
    ")\n",
    "test_loader=DataLoader(dataset=test_dataset,\n",
    "                        batch_size=batch_size,\n",
    "                        shuffle=True#打乱顺序\n",
    ")"
   ]
  },
  {
   "cell_type": "code",
   "execution_count": 24,
   "id": "126249a4-6d89-4fb0-8900-5021bc8afbd4",
   "metadata": {},
   "outputs": [],
   "source": [
    "#定义网络结构\n",
    "class MnistNet(nn.Module):\n",
    "    def __init__(self):\n",
    "        super(MnistNet,self).__init__()\n",
    "        #全连接层1\n",
    "        #对于 MNIST 数据集，图像尺寸是 28x28，因此输入特征数是 784（即 28*28）\n",
    "        self.fc1 = nn.Linear(28*28,28)#此处第二个28为输出特征数,也可以为其他数字,但是要确保与下一层输入特征数相同\n",
    "        #全连接层2\n",
    "        self.fc2 = nn.Linear(28,10)#输出特征数为10,因为结果有0`9十个可能\n",
    "\n",
    "    def forward(self,x):\n",
    "        # 输入层,全连接层的输入需要一维向量,因此将输入展开为以为\n",
    "        x = x.view(-1,28*28*1)\n",
    "        # 隐藏层 \n",
    "        x = self.fc1(x)\n",
    "        # 隐藏层使用relu作为激活函数\n",
    "        x = nn.functional.relu(x)\n",
    "        # 输出层\n",
    "        x = self.fc2(x) \n",
    "        # 输出层使用softmax激活函数\n",
    "        return nn.functional.log_softmax(x,dim=-1)\n",
    "        "
   ]
  },
  {
   "cell_type": "code",
   "execution_count": 25,
   "id": "de0ea3d4-6f33-49da-b432-f5e4701f0d9d",
   "metadata": {},
   "outputs": [],
   "source": [
    "#定义学习率\n",
    "LR=0.5\n",
    "#实例化模型\n",
    "model=MnistNet()\n",
    "#定义损失函数\n",
    "mse_loss=nn.MSELoss()\n",
    "#定义优化器\n",
    "optimizer=optim.SGD(model.parameters(),LR)"
   ]
  },
  {
   "cell_type": "code",
   "execution_count": 26,
   "id": "6f5aa83e-d6eb-4c93-85e4-c3d3f98bdc15",
   "metadata": {},
   "outputs": [],
   "source": [
    "#定义训练函数\n",
    "def train():\n",
    "    for i,data in enumerate(train_loader):\n",
    "        #循环获得一个批次的数据和标签\n",
    "        inputs,labels=data\n",
    "        #获得模型预测结果(64,10)\n",
    "        outputs=model(inputs)\n",
    "        #将数据标签转化为独热编码 \n",
    "        #(64)->(64,1)\n",
    "        labels=labels.reshape(-1,1)#同样,此处的-1表示自动匹配,在此应为64\n",
    "        #tensor.scatter(dim,index,src)\n",
    "        #(64,1)->(64,10)\n",
    "        one_hot=torch.zeros(inputs.shape[0],10).scatter(1,labels,1)\n",
    "        #计算损失函数\n",
    "        loss=mse_loss(outputs,one_hot)\n",
    "        #梯度清零\n",
    "        optimizer.zero_grad()\n",
    "        #计算梯度\n",
    "        loss.backward()\n",
    "        #修改权值\n",
    "        optimizer.step()\n",
    "def test():\n",
    "    correct=0\n",
    "    for i,data in enumerate(test_loader):\n",
    "        #获得一个批次的数据和标签\n",
    "        inputs,labels=data\n",
    "        #获得模型预测结果 (64,10)\n",
    "        outputs=model(inputs)\n",
    "        #获得最大值,以及最大值所在位置\n",
    "        _,label_hat=torch.max(outputs,1)\n",
    "        #预测正确率\n",
    "        #if((label_hat==label):\n",
    "        #correct+=1\n",
    "        correct += (label_hat == labels).sum().item()  # 修正逻辑错误：直接比较并求和\n",
    "    print(\"Test acc: {0}\".format(correct / len(test_dataset)))"
   ]
  },
  {
   "cell_type": "code",
   "execution_count": 27,
   "id": "b4021be0-69e1-4ca1-bef8-93b081e38a53",
   "metadata": {},
   "outputs": [
    {
     "name": "stdout",
     "output_type": "stream",
     "text": [
      "开始训练\n",
      "epoch: 0\n",
      "Test acc: 0.9177\n",
      "epoch: 1\n",
      "Test acc: 0.9234\n",
      "epoch: 2\n",
      "Test acc: 0.9278\n",
      "epoch: 3\n",
      "Test acc: 0.9264\n",
      "epoch: 4\n",
      "Test acc: 0.9317\n",
      "epoch: 5\n",
      "Test acc: 0.9325\n",
      "epoch: 6\n",
      "Test acc: 0.9307\n",
      "epoch: 7\n",
      "Test acc: 0.9363\n",
      "epoch: 8\n",
      "Test acc: 0.9371\n",
      "epoch: 9\n",
      "Test acc: 0.9376\n"
     ]
    }
   ],
   "source": [
    "#设置训练轮次为10\n",
    "epoch=10\n",
    "print(\"开始训练\")\n",
    "for i in range(epoch):\n",
    "    print('epoch:',i)\n",
    "    train()\n",
    "    test()\n",
    "print(\"结束训练\")"
   ]
  }
 ],
 "metadata": {
  "kernelspec": {
   "display_name": "Python 3 (ipykernel)",
   "language": "python",
   "name": "python3"
  },
  "language_info": {
   "codemirror_mode": {
    "name": "ipython",
    "version": 3
   },
   "file_extension": ".py",
   "mimetype": "text/x-python",
   "name": "python",
   "nbconvert_exporter": "python",
   "pygments_lexer": "ipython3",
   "version": "3.12.7"
  }
 },
 "nbformat": 4,
 "nbformat_minor": 5
}
